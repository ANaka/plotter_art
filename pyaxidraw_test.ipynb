{
 "cells": [
  {
   "cell_type": "code",
   "execution_count": 70,
   "metadata": {},
   "outputs": [],
   "source": [
    "from pyaxidraw import axidraw   # import module\n",
    "from tqdm import tqdm\n",
    "\n",
    "import matplotlib.pyplot as plt\n",
    "\n",
    "import sys\n",
    "from scipy.integrate import odeint\n",
    "import numpy as np"
   ]
  },
  {
   "cell_type": "code",
   "execution_count": 71,
   "metadata": {},
   "outputs": [
    {
     "data": {
      "text/plain": [
       "True"
      ]
     },
     "execution_count": 71,
     "metadata": {},
     "output_type": "execute_result"
    }
   ],
   "source": [
    "ad = axidraw.AxiDraw()          # Initialize class\n",
    "ad.interactive()                # Enter interactive context\n",
    "ad.options.pen_pos_up = 70      # set pen-up position\n",
    "ad.connect()                    # Open serial port to AxiDraw"
   ]
  },
  {
   "cell_type": "code",
   "execution_count": 28,
   "metadata": {},
   "outputs": [
    {
     "data": {
      "text/plain": [
       "0"
      ]
     },
     "execution_count": 28,
     "metadata": {},
     "output_type": "execute_result"
    }
   ],
   "source": [
    "ad.f_curr_y"
   ]
  },
  {
   "cell_type": "code",
   "execution_count": 72,
   "metadata": {},
   "outputs": [],
   "source": [
    "ad.bounds = [[0.3,0.3],[10.5,8]]"
   ]
  },
  {
   "cell_type": "code",
   "execution_count": 73,
   "metadata": {},
   "outputs": [],
   "source": [
    "ad.options.speed_pendown = 80"
   ]
  },
  {
   "cell_type": "code",
   "execution_count": 32,
   "metadata": {},
   "outputs": [],
   "source": [
    "dx,dy = np.random.randn(2)*0.1"
   ]
  },
  {
   "cell_type": "code",
   "execution_count": 71,
   "metadata": {},
   "outputs": [
    {
     "name": "stdout",
     "output_type": "stream",
     "text": [
      "CPU times: user 1.97 s, sys: 632 ms, total: 2.6 s\n",
      "Wall time: 2min 52s\n"
     ]
    }
   ],
   "source": [
    "%%time\n",
    "for i in range(1000):\n",
    "    dx,dy = np.random.randn(2)*0.05\n",
    "    ad.line(dx,dy)"
   ]
  },
  {
   "cell_type": "code",
   "execution_count": 105,
   "metadata": {},
   "outputs": [],
   "source": [
    "ad.bounds = [[0.5,0.5],[10,8]]"
   ]
  },
  {
   "cell_type": "code",
   "execution_count": 77,
   "metadata": {},
   "outputs": [
    {
     "name": "stdout",
     "output_type": "stream",
     "text": [
      "CPU times: user 838 ms, sys: 270 ms, total: 1.11 s\n",
      "Wall time: 1min 17s\n"
     ]
    }
   ],
   "source": [
    "%%time\n",
    "for i in range(500):\n",
    "    dx,dy = np.random.randn(2)*0.1\n",
    "    ad.line(dx,dy)"
   ]
  },
  {
   "cell_type": "code",
   "execution_count": 51,
   "metadata": {},
   "outputs": [],
   "source": [
    "ad.moveto(0.11,0.11) "
   ]
  },
  {
   "cell_type": "code",
   "execution_count": 74,
   "metadata": {},
   "outputs": [],
   "source": [
    "ad.bounds=[[0.1,0.1],[10.9,8.4]]"
   ]
  },
  {
   "cell_type": "code",
   "execution_count": 75,
   "metadata": {},
   "outputs": [],
   "source": [
    "ad.speed_pendown=10"
   ]
  },
  {
   "cell_type": "code",
   "execution_count": 76,
   "metadata": {},
   "outputs": [],
   "source": [
    "# Lorenz paramters and initial conditions\n",
    "sigma, beta, rho = 10, 2.667, 28\n",
    "u0, v0, w0 = 0, 1, 1.05\n",
    "\n",
    "# Maximum time point and total number of time points\n",
    "tmax, n = 300, 60000\n",
    "\n",
    "def lorenz(X, t, sigma, beta, rho):\n",
    "    \"\"\"The Lorenz equations.\"\"\"\n",
    "    u, v, w = X\n",
    "    up = -sigma*(u - v)\n",
    "    vp = rho*u - v - u*w\n",
    "    wp = -beta*w + u*v\n",
    "    return up, vp, wp\n",
    "\n",
    "# Integrate the Lorenz equations on the time grid t\n",
    "t = np.linspace(0, tmax, n)\n",
    "f = odeint(lorenz, (u0, v0, w0), t, args=(sigma, beta, rho))\n",
    "x, y, z = f.T"
   ]
  },
  {
   "cell_type": "code",
   "execution_count": 85,
   "metadata": {},
   "outputs": [],
   "source": [
    "xsc = (x - x.min()) \n",
    "xsc = xsc / xsc.max() * 9.5 + 0.5\n",
    "ysc = (y - y.min())\n",
    "ysc = ysc / ysc.max() * 7.5 + 0.5\n",
    "\n",
    "xsc = xsc[30:]\n",
    "ysc = ysc[30:]"
   ]
  },
  {
   "cell_type": "code",
   "execution_count": 67,
   "metadata": {},
   "outputs": [
    {
     "data": {
      "text/plain": [
       "0.5"
      ]
     },
     "execution_count": 67,
     "metadata": {},
     "output_type": "execute_result"
    }
   ],
   "source": [
    "xsc.min()"
   ]
  },
  {
   "cell_type": "code",
   "execution_count": 60,
   "metadata": {},
   "outputs": [
    {
     "data": {
      "text/plain": [
       "10"
      ]
     },
     "execution_count": 60,
     "metadata": {},
     "output_type": "execute_result"
    }
   ],
   "source": [
    "ad.speed_pendown"
   ]
  },
  {
   "cell_type": "code",
   "execution_count": 87,
   "metadata": {},
   "outputs": [],
   "source": [
    "ad.moveto(round(xsc[0],2),round(ysc[0],2))"
   ]
  },
  {
   "cell_type": "code",
   "execution_count": 88,
   "metadata": {},
   "outputs": [
    {
     "name": "stderr",
     "output_type": "stream",
     "text": [
      "17370it [46:04,  3.46it/s]Failed after command: SM,25,-20,-1\n",
      "17371it [46:05,  3.56it/s]\n",
      "USB connection to AxiDraw lost.\n",
      "59970it [46:06, 21.68it/s] \n"
     ]
    }
   ],
   "source": [
    "for _x,_y in tqdm(zip(xsc,ysc)):\n",
    "    ad.lineto(round(_x,4),round(_y,4))\n",
    "ad.moveto(0.5,0.5)"
   ]
  },
  {
   "cell_type": "code",
   "execution_count": 35,
   "metadata": {},
   "outputs": [],
   "source": []
  },
  {
   "cell_type": "code",
   "execution_count": 86,
   "metadata": {},
   "outputs": [
    {
     "data": {
      "text/plain": [
       "[<matplotlib.lines.Line2D at 0x151e3d6b38>]"
      ]
     },
     "execution_count": 86,
     "metadata": {},
     "output_type": "execute_result"
    },
    {
     "data": {
      "image/png": "[encoded data removed]",
      "text/plain": [
       "<Figure size 432x288 with 1 Axes>"
      ]
     },
     "metadata": {
      "needs_background": "light"
     },
     "output_type": "display_data"
    }
   ],
   "source": [
    "i=0\n",
    "f,ax = plt.subplots()\n",
    "ax.plot(xsc,ysc,alpha=1,linewidth=0.1)\n",
    "ax.plot(xsc[i],ysc[i],'or')"
   ]
  },
  {
   "cell_type": "code",
   "execution_count": 89,
   "metadata": {},
   "outputs": [],
   "source": [
    "# define the initial system state (aka x, y, z positions in space)\n",
    "initial_state = [0.1, 0, 0]\n",
    "\n",
    "# define the system parameters sigma, rho, and beta\n",
    "sigma = 10.\n",
    "rho   = 28.\n",
    "beta  = 8./3.\n",
    "\n",
    "# define the time points to solve for, evenly spaced between the start and end times\n",
    "start_time = 1\n",
    "end_time = 60\n",
    "interval = 100\n",
    "time_points = np.linspace(start_time, end_time, end_time * interval)"
   ]
  },
  {
   "cell_type": "code",
   "execution_count": 90,
   "metadata": {},
   "outputs": [],
   "source": [
    "# define the lorenz system\n",
    "def lorenz_system(current_state, t):\n",
    "    x, y, z = current_state\n",
    "    dx_dt = sigma * (y - x)\n",
    "    dy_dt = x * (rho - z) - y\n",
    "    dz_dt = x * y - beta * z\n",
    "    return [dx_dt, dy_dt, dz_dt]"
   ]
  },
  {
   "cell_type": "code",
   "execution_count": 92,
   "metadata": {},
   "outputs": [
    {
     "data": {
      "text/plain": [
       "array([ 1.        ,  1.00983497,  1.01966994, ..., 59.98033006,\n",
       "       59.99016503, 60.        ])"
      ]
     },
     "execution_count": 92,
     "metadata": {},
     "output_type": "execute_result"
    }
   ],
   "source": [
    "time_points"
   ]
  },
  {
   "cell_type": "code",
   "execution_count": null,
   "metadata": {},
   "outputs": [],
   "source": [
    "current_state = initial_state"
   ]
  },
  {
   "cell_type": "code",
   "execution_count": null,
   "metadata": {},
   "outputs": [],
   "source": [
    "lorenz_system(current_state)"
   ]
  },
  {
   "cell_type": "code",
   "execution_count": 82,
   "metadata": {},
   "outputs": [],
   "source": [
    "# return a list in iteratively larger chunks\n",
    "def get_chunks(full_list, size):\n",
    "    size = max(1, size)\n",
    "    chunks = [full_list[0:i] for i in range(1, len(full_list) + 1, size)]\n",
    "    return chunks"
   ]
  },
  {
   "cell_type": "code",
   "execution_count": 83,
   "metadata": {},
   "outputs": [],
   "source": [
    "# get incrementally larger chunks of the time points, to reveal the attractor one frame at a time\n",
    "chunks = get_chunks(time_points, size=20)"
   ]
  },
  {
   "cell_type": "code",
   "execution_count": 85,
   "metadata": {},
   "outputs": [],
   "source": [
    "# get the points to plot, one chunk of time steps at a time, by integrating the system of equations\n",
    "points = [odeint(lorenz_system, initial_state, chunk) for chunk in chunks]"
   ]
  }
 ],
 "metadata": {
  "kernelspec": {
   "display_name": "Python [conda env:pyaxidraw]",
   "language": "python",
   "name": "conda-env-pyaxidraw-py"
  },
  "language_info": {
   "codemirror_mode": {
    "name": "ipython",
    "version": 3
   },
   "file_extension": ".py",
   "mimetype": "text/x-python",
   "name": "python",
   "nbconvert_exporter": "python",
   "pygments_lexer": "ipython3",
   "version": "3.6.9"
  }
 },
 "nbformat": 4,
 "nbformat_minor": 2
}
